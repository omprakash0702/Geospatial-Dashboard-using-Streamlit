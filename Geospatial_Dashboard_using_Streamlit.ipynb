{
  "nbformat": 4,
  "nbformat_minor": 0,
  "metadata": {
    "colab": {
      "provenance": []
    },
    "kernelspec": {
      "name": "python3",
      "display_name": "Python 3"
    },
    "language_info": {
      "name": "python"
    }
  },
  "cells": [
    {
      "cell_type": "markdown",
      "source": [
        "# Interactive Geospatial Dashboard using Streamlit\n",
        "\n"
      ],
      "metadata": {
        "id": "ZWZYSaFq7NP-"
      }
    },
    {
      "cell_type": "code",
      "source": [
        "!pip install streamlit\n",
        "!pip install pyngrok"
      ],
      "metadata": {
        "colab": {
          "base_uri": "https://localhost:8080/"
        },
        "collapsed": true,
        "id": "XCZcXA9U8Auc",
        "outputId": "4d6c0244-2133-4236-d462-8d6c0bdd2b07"
      },
      "execution_count": 1,
      "outputs": [
        {
          "output_type": "stream",
          "name": "stdout",
          "text": [
            "Collecting streamlit\n",
            "  Downloading streamlit-1.40.2-py2.py3-none-any.whl.metadata (8.4 kB)\n",
            "Requirement already satisfied: altair<6,>=4.0 in /usr/local/lib/python3.10/dist-packages (from streamlit) (4.2.2)\n",
            "Requirement already satisfied: blinker<2,>=1.0.0 in /usr/local/lib/python3.10/dist-packages (from streamlit) (1.9.0)\n",
            "Requirement already satisfied: cachetools<6,>=4.0 in /usr/local/lib/python3.10/dist-packages (from streamlit) (5.5.0)\n",
            "Requirement already satisfied: click<9,>=7.0 in /usr/local/lib/python3.10/dist-packages (from streamlit) (8.1.7)\n",
            "Requirement already satisfied: numpy<3,>=1.23 in /usr/local/lib/python3.10/dist-packages (from streamlit) (1.26.4)\n",
            "Requirement already satisfied: packaging<25,>=20 in /usr/local/lib/python3.10/dist-packages (from streamlit) (24.2)\n",
            "Requirement already satisfied: pandas<3,>=1.4.0 in /usr/local/lib/python3.10/dist-packages (from streamlit) (2.2.2)\n",
            "Requirement already satisfied: pillow<12,>=7.1.0 in /usr/local/lib/python3.10/dist-packages (from streamlit) (11.0.0)\n",
            "Requirement already satisfied: protobuf<6,>=3.20 in /usr/local/lib/python3.10/dist-packages (from streamlit) (4.25.5)\n",
            "Requirement already satisfied: pyarrow>=7.0 in /usr/local/lib/python3.10/dist-packages (from streamlit) (17.0.0)\n",
            "Requirement already satisfied: requests<3,>=2.27 in /usr/local/lib/python3.10/dist-packages (from streamlit) (2.32.3)\n",
            "Requirement already satisfied: rich<14,>=10.14.0 in /usr/local/lib/python3.10/dist-packages (from streamlit) (13.9.4)\n",
            "Requirement already satisfied: tenacity<10,>=8.1.0 in /usr/local/lib/python3.10/dist-packages (from streamlit) (9.0.0)\n",
            "Requirement already satisfied: toml<2,>=0.10.1 in /usr/local/lib/python3.10/dist-packages (from streamlit) (0.10.2)\n",
            "Requirement already satisfied: typing-extensions<5,>=4.3.0 in /usr/local/lib/python3.10/dist-packages (from streamlit) (4.12.2)\n",
            "Collecting watchdog<7,>=2.1.5 (from streamlit)\n",
            "  Downloading watchdog-6.0.0-py3-none-manylinux2014_x86_64.whl.metadata (44 kB)\n",
            "\u001b[2K     \u001b[90m━━━━━━━━━━━━━━━━━━━━━━━━━━━━━━━━━━━━━━━━\u001b[0m \u001b[32m44.3/44.3 kB\u001b[0m \u001b[31m2.0 MB/s\u001b[0m eta \u001b[36m0:00:00\u001b[0m\n",
            "\u001b[?25hRequirement already satisfied: gitpython!=3.1.19,<4,>=3.0.7 in /usr/local/lib/python3.10/dist-packages (from streamlit) (3.1.43)\n",
            "Collecting pydeck<1,>=0.8.0b4 (from streamlit)\n",
            "  Downloading pydeck-0.9.1-py2.py3-none-any.whl.metadata (4.1 kB)\n",
            "Requirement already satisfied: tornado<7,>=6.0.3 in /usr/local/lib/python3.10/dist-packages (from streamlit) (6.3.3)\n",
            "Requirement already satisfied: entrypoints in /usr/local/lib/python3.10/dist-packages (from altair<6,>=4.0->streamlit) (0.4)\n",
            "Requirement already satisfied: jinja2 in /usr/local/lib/python3.10/dist-packages (from altair<6,>=4.0->streamlit) (3.1.4)\n",
            "Requirement already satisfied: jsonschema>=3.0 in /usr/local/lib/python3.10/dist-packages (from altair<6,>=4.0->streamlit) (4.23.0)\n",
            "Requirement already satisfied: toolz in /usr/local/lib/python3.10/dist-packages (from altair<6,>=4.0->streamlit) (0.12.1)\n",
            "Requirement already satisfied: gitdb<5,>=4.0.1 in /usr/local/lib/python3.10/dist-packages (from gitpython!=3.1.19,<4,>=3.0.7->streamlit) (4.0.11)\n",
            "Requirement already satisfied: python-dateutil>=2.8.2 in /usr/local/lib/python3.10/dist-packages (from pandas<3,>=1.4.0->streamlit) (2.8.2)\n",
            "Requirement already satisfied: pytz>=2020.1 in /usr/local/lib/python3.10/dist-packages (from pandas<3,>=1.4.0->streamlit) (2024.2)\n",
            "Requirement already satisfied: tzdata>=2022.7 in /usr/local/lib/python3.10/dist-packages (from pandas<3,>=1.4.0->streamlit) (2024.2)\n",
            "Requirement already satisfied: charset-normalizer<4,>=2 in /usr/local/lib/python3.10/dist-packages (from requests<3,>=2.27->streamlit) (3.4.0)\n",
            "Requirement already satisfied: idna<4,>=2.5 in /usr/local/lib/python3.10/dist-packages (from requests<3,>=2.27->streamlit) (3.10)\n",
            "Requirement already satisfied: urllib3<3,>=1.21.1 in /usr/local/lib/python3.10/dist-packages (from requests<3,>=2.27->streamlit) (2.2.3)\n",
            "Requirement already satisfied: certifi>=2017.4.17 in /usr/local/lib/python3.10/dist-packages (from requests<3,>=2.27->streamlit) (2024.8.30)\n",
            "Requirement already satisfied: markdown-it-py>=2.2.0 in /usr/local/lib/python3.10/dist-packages (from rich<14,>=10.14.0->streamlit) (3.0.0)\n",
            "Requirement already satisfied: pygments<3.0.0,>=2.13.0 in /usr/local/lib/python3.10/dist-packages (from rich<14,>=10.14.0->streamlit) (2.18.0)\n",
            "Requirement already satisfied: smmap<6,>=3.0.1 in /usr/local/lib/python3.10/dist-packages (from gitdb<5,>=4.0.1->gitpython!=3.1.19,<4,>=3.0.7->streamlit) (5.0.1)\n",
            "Requirement already satisfied: MarkupSafe>=2.0 in /usr/local/lib/python3.10/dist-packages (from jinja2->altair<6,>=4.0->streamlit) (3.0.2)\n",
            "Requirement already satisfied: attrs>=22.2.0 in /usr/local/lib/python3.10/dist-packages (from jsonschema>=3.0->altair<6,>=4.0->streamlit) (24.2.0)\n",
            "Requirement already satisfied: jsonschema-specifications>=2023.03.6 in /usr/local/lib/python3.10/dist-packages (from jsonschema>=3.0->altair<6,>=4.0->streamlit) (2024.10.1)\n",
            "Requirement already satisfied: referencing>=0.28.4 in /usr/local/lib/python3.10/dist-packages (from jsonschema>=3.0->altair<6,>=4.0->streamlit) (0.35.1)\n",
            "Requirement already satisfied: rpds-py>=0.7.1 in /usr/local/lib/python3.10/dist-packages (from jsonschema>=3.0->altair<6,>=4.0->streamlit) (0.21.0)\n",
            "Requirement already satisfied: mdurl~=0.1 in /usr/local/lib/python3.10/dist-packages (from markdown-it-py>=2.2.0->rich<14,>=10.14.0->streamlit) (0.1.2)\n",
            "Requirement already satisfied: six>=1.5 in /usr/local/lib/python3.10/dist-packages (from python-dateutil>=2.8.2->pandas<3,>=1.4.0->streamlit) (1.16.0)\n",
            "Downloading streamlit-1.40.2-py2.py3-none-any.whl (8.6 MB)\n",
            "\u001b[2K   \u001b[90m━━━━━━━━━━━━━━━━━━━━━━━━━━━━━━━━━━━━━━━━\u001b[0m \u001b[32m8.6/8.6 MB\u001b[0m \u001b[31m57.1 MB/s\u001b[0m eta \u001b[36m0:00:00\u001b[0m\n",
            "\u001b[?25hDownloading pydeck-0.9.1-py2.py3-none-any.whl (6.9 MB)\n",
            "\u001b[2K   \u001b[90m━━━━━━━━━━━━━━━━━━━━━━━━━━━━━━━━━━━━━━━━\u001b[0m \u001b[32m6.9/6.9 MB\u001b[0m \u001b[31m91.9 MB/s\u001b[0m eta \u001b[36m0:00:00\u001b[0m\n",
            "\u001b[?25hDownloading watchdog-6.0.0-py3-none-manylinux2014_x86_64.whl (79 kB)\n",
            "\u001b[2K   \u001b[90m━━━━━━━━━━━━━━━━━━━━━━━━━━━━━━━━━━━━━━━━\u001b[0m \u001b[32m79.1/79.1 kB\u001b[0m \u001b[31m7.1 MB/s\u001b[0m eta \u001b[36m0:00:00\u001b[0m\n",
            "\u001b[?25hInstalling collected packages: watchdog, pydeck, streamlit\n",
            "Successfully installed pydeck-0.9.1 streamlit-1.40.2 watchdog-6.0.0\n",
            "Collecting pyngrok\n",
            "  Downloading pyngrok-7.2.1-py3-none-any.whl.metadata (8.3 kB)\n",
            "Requirement already satisfied: PyYAML>=5.1 in /usr/local/lib/python3.10/dist-packages (from pyngrok) (6.0.2)\n",
            "Downloading pyngrok-7.2.1-py3-none-any.whl (22 kB)\n",
            "Installing collected packages: pyngrok\n",
            "Successfully installed pyngrok-7.2.1\n"
          ]
        }
      ]
    },
    {
      "cell_type": "code",
      "source": [
        "from pyngrok import ngrok\n",
        "!ngrok authtoken 2pfmad2DRtukri0KGxhZMa7ujys_7fZDJpntJsi8CNehAQXRa"
      ],
      "metadata": {
        "colab": {
          "base_uri": "https://localhost:8080/"
        },
        "id": "ToMlcj65tuvH",
        "outputId": "54a767d2-a55d-4bf4-ccf6-2beeb7d3393f"
      },
      "execution_count": 2,
      "outputs": [
        {
          "output_type": "stream",
          "name": "stdout",
          "text": [
            "Authtoken saved to configuration file: /root/.config/ngrok/ngrok.yml\n"
          ]
        }
      ]
    },
    {
      "cell_type": "code",
      "source": [
        "url = ngrok.connect(8501, 'http')\n",
        "print(f'Access your geospatial dashboard at {url}')"
      ],
      "metadata": {
        "colab": {
          "base_uri": "https://localhost:8080/"
        },
        "id": "okP0DiGMuRD0",
        "outputId": "8d493daf-37fe-4fbb-f1ce-02d8fd98e5ed"
      },
      "execution_count": 3,
      "outputs": [
        {
          "output_type": "stream",
          "name": "stdout",
          "text": [
            "Access your geospatial dashboard at NgrokTunnel: \"https://bb74-35-229-198-215.ngrok-free.app\" -> \"http://localhost:8501\"\n"
          ]
        }
      ]
    },
    {
      "cell_type": "markdown",
      "source": [
        "#### Writing Streamlit Code"
      ],
      "metadata": {
        "id": "pEI9xfEkused"
      }
    },
    {
      "cell_type": "markdown",
      "source": [
        "## 1. Page Configuration"
      ],
      "metadata": {
        "id": "hRhZ8jmf8pyf"
      }
    },
    {
      "cell_type": "code",
      "source": [
        "%%writefile app.py\n",
        "\n",
        "import pandas as pd\n",
        "import streamlit as st\n",
        "import plotly.express as px\n",
        "import plotly.graph_objects as go\n",
        "\n",
        "import warnings\n",
        "warnings.filterwarnings('ignore')\n",
        "\n",
        "st.set_page_config(\n",
        "    page_title=\"Geospatial Dashboard\" ,\n",
        "    page_icon=\"🌐\" ,\n",
        "    layout=\"wide\"\n",
        ")"
      ],
      "metadata": {
        "colab": {
          "base_uri": "https://localhost:8080/"
        },
        "id": "wmfSyAul89vI",
        "outputId": "9b07d50b-6308-4f7d-cbef-3c9b9b739713"
      },
      "execution_count": 35,
      "outputs": [
        {
          "output_type": "stream",
          "name": "stdout",
          "text": [
            "Overwriting app.py\n"
          ]
        }
      ]
    },
    {
      "cell_type": "code",
      "source": [
        "!streamlit run app.py &>/content/logs.txt &"
      ],
      "metadata": {
        "id": "9zxEiuC_9Y9Q"
      },
      "execution_count": 36,
      "outputs": []
    },
    {
      "cell_type": "code",
      "source": [
        "%%writefile -a app.py\n",
        "df = pd.read_csv('world_population.csv')"
      ],
      "metadata": {
        "colab": {
          "base_uri": "https://localhost:8080/"
        },
        "id": "dLpV9QzE-fMp",
        "outputId": "d3c31463-87d4-4dda-a7d4-5253e7cdc76a"
      },
      "execution_count": 37,
      "outputs": [
        {
          "output_type": "stream",
          "name": "stdout",
          "text": [
            "Appending to app.py\n"
          ]
        }
      ]
    },
    {
      "cell_type": "markdown",
      "source": [
        "## 2. Creating the Sidebars"
      ],
      "metadata": {
        "id": "NKrEqc4o_YOf"
      }
    },
    {
      "cell_type": "code",
      "source": [
        "%%writefile -a app.py\n",
        "with st.sidebar:\n",
        "    st.title('🌐 Geospatial Dashboard ')\n",
        "    # A.CONTINENT\n",
        "    continent_lst = list(df['Continent'].unique())\n",
        "    select_continent = st.multiselect('Select Continent', continent_lst)\n",
        "    if select_continent:\n",
        "        df = df[df['Continent'].isin(select_continent)]\n",
        "    else:\n",
        "        df = df.copy()\n",
        "\n",
        "    # B.COUNTRY\n",
        "    country_lst = list(df['Country/Territory'].unique())\n",
        "    select_country = st.multiselect('Select a Country', country_lst)\n",
        "    if select_country:\n",
        "        df = df[df['Country/Territory'].isin(select_country)]\n",
        "    else:\n",
        "        df = df.copy()"
      ],
      "metadata": {
        "colab": {
          "base_uri": "https://localhost:8080/"
        },
        "id": "rr52iMuB_PZ7",
        "outputId": "d95fd938-07fc-4a5f-9b0b-b0a9cda31644"
      },
      "execution_count": 38,
      "outputs": [
        {
          "output_type": "stream",
          "name": "stdout",
          "text": [
            "Appending to app.py\n"
          ]
        }
      ]
    },
    {
      "cell_type": "markdown",
      "source": [
        "## 3. Chloropeth map for Population"
      ],
      "metadata": {
        "id": "GPr3et5oD5eU"
      }
    },
    {
      "cell_type": "code",
      "source": [
        "%%writefile -a app.py\n",
        "st.subheader('Chloropeth Map : Population')\n",
        "fig1 = px.choropleth(df.dropna(),\n",
        "                     locations = 'Country/Territory',\n",
        "                     locationmode = 'country names',\n",
        "                     color = 'World Population Percentage',\n",
        "                     hover_name = 'Country/Territory',\n",
        "                     hover_data = ['World Population Percentage', 'Area (km²)'],\n",
        "                     color_continuous_scale='Inferno'\n",
        "                     )\n",
        "fig1.update_geos(\n",
        "    showcoastlines=True,\n",
        "    coastlinecolor='white',\n",
        "    showland=True,\n",
        "    landcolor='gray',\n",
        "    showocean=True,\n",
        "    oceancolor='Black',\n",
        "    showlakes = True,\n",
        "    lakecolor='Black',\n",
        "    bgcolor='Black',\n",
        ")\n",
        "st.plotly_chart(fig1, use_container_width=True)"
      ],
      "metadata": {
        "colab": {
          "base_uri": "https://localhost:8080/"
        },
        "id": "qKmuIjUqADJh",
        "outputId": "890b03e4-e646-4c82-ce64-04132478bc6b"
      },
      "execution_count": 39,
      "outputs": [
        {
          "output_type": "stream",
          "name": "stdout",
          "text": [
            "Appending to app.py\n"
          ]
        }
      ]
    },
    {
      "cell_type": "markdown",
      "source": [
        "## 4. Metrics Card"
      ],
      "metadata": {
        "id": "hpWUPP46JgkF"
      }
    },
    {
      "cell_type": "code",
      "source": [
        "%%writefile -a app.py\n",
        "block1, block2 = st.columns(2)"
      ],
      "metadata": {
        "colab": {
          "base_uri": "https://localhost:8080/"
        },
        "id": "YeSuNa0OHw54",
        "outputId": "ebcb7562-89dd-4276-c61e-e2b97191c19c"
      },
      "execution_count": 40,
      "outputs": [
        {
          "output_type": "stream",
          "name": "stdout",
          "text": [
            "Appending to app.py\n"
          ]
        }
      ]
    },
    {
      "cell_type": "code",
      "source": [
        "%%writefile -a app.py\n",
        "#css for metric card\n",
        "st.markdown(\n",
        "    \"\"\"\n",
        "    <style>\n",
        "    .card{\n",
        "      border-radius: 5px;\n",
        "      padding: 5px;\n",
        "      margin:100ox 0px 0px -50px;\n",
        "      color: white;\n",
        "      font-size:30px;\n",
        "      text-align: center;\n",
        "    }\n",
        "    .value{\n",
        "      font-size:48x;\n",
        "      font-weight: bold;\n",
        "    }\n",
        "    .change-positive {\n",
        "        color: green;\n",
        "        font-size: 20px;\n",
        "        font-weight: bold;\n",
        "    }\n",
        "    .change-negative {\n",
        "        color: red;\n",
        "        font-size: 20px;\n",
        "        font-weight: bold;\n",
        "    }\n",
        "    </style>\n",
        "    \"\"\", unsafe_allow_html=True)"
      ],
      "metadata": {
        "colab": {
          "base_uri": "https://localhost:8080/"
        },
        "id": "Hto5iQXag-qs",
        "outputId": "7f13551d-1c8e-4556-b5c6-c08aeab9ff75"
      },
      "execution_count": 41,
      "outputs": [
        {
          "output_type": "stream",
          "name": "stdout",
          "text": [
            "Appending to app.py\n"
          ]
        }
      ]
    },
    {
      "cell_type": "code",
      "source": [
        "%%writefile -a app.py\n",
        "\n",
        "with block1:\n",
        "  st.subheader('Growth Rate :📈')\n",
        "  if not select_country:\n",
        "    country_data = df.iloc[0]\n",
        "  else:\n",
        "    country_data = df[df['Country/Territory'] == select_country[0]].iloc[0]\n",
        "\n",
        "  #function to compute growth percentage\n",
        "  def calculate_growth(previous, current):\n",
        "    return ((current - previous) / previous) * 100\n",
        "\n",
        "  #calculate growth\n",
        "  country_growth = calculate_growth(country_data['2000 Population'], country_data['2022 Population'])\n",
        "\n",
        "  #define card creation function\n",
        "  def create_metric_card(country_name, current_population, growth):\n",
        "    if growth > 0:\n",
        "      growth_class = 'change-positive'\n",
        "      growth_symbol = '↑'\n",
        "    else:\n",
        "      growth_class = 'change-negative'\n",
        "      growth_symbol = '↓'\n",
        "\n",
        "    return f\"\"\"\n",
        "    <div class=\"card\">\n",
        "    <div class=\"value\">{country_name}</div>\n",
        "    <div class=\"value\">{current_population:.1f} M</div>\n",
        "    <div class=\"value {growth_class}\">{growth_symbol}{abs(growth):.2f}%</div?]>\n",
        "    \"\"\"\n",
        "  st.markdown(create_metric_card(country_data['Country/Territory'], country_data['2022 Population'], country_growth),\n",
        "            unsafe_allow_html=True)\n"
      ],
      "metadata": {
        "colab": {
          "base_uri": "https://localhost:8080/"
        },
        "id": "4o0TQvQ3dGNQ",
        "outputId": "fa74a55a-d4af-4ad0-dea5-fefd8d5cfef4"
      },
      "execution_count": 42,
      "outputs": [
        {
          "output_type": "stream",
          "name": "stdout",
          "text": [
            "Appending to app.py\n"
          ]
        }
      ]
    },
    {
      "cell_type": "markdown",
      "source": [
        "## Donut Chart\n"
      ],
      "metadata": {
        "id": "5fViSrWil13y"
      }
    },
    {
      "cell_type": "code",
      "source": [
        "%%writefile -a app.py\n",
        "with block2:\n",
        "  st.subheader('Donut Chart : Population by Continent')\n",
        "  df_continent_pop = df.groupby('Continent')['2022 Population'].sum().reset_index()\n",
        "  fig2 = px.pie(df_continent_pop,\n",
        "                names = 'Continent',\n",
        "                values = '2022 Population',\n",
        "                hole = 0.4,\n",
        "                title = 'Population distribution by continent (2022)')\n",
        "  st.plotly_chart(fig2, use_container_width = True)\n",
        ""
      ],
      "metadata": {
        "colab": {
          "base_uri": "https://localhost:8080/"
        },
        "id": "myICu4-Zg3Dx",
        "outputId": "728e2dcf-91b3-4ed1-d77d-9719818e41e8"
      },
      "execution_count": 43,
      "outputs": [
        {
          "output_type": "stream",
          "name": "stdout",
          "text": [
            "Appending to app.py\n"
          ]
        }
      ]
    },
    {
      "cell_type": "markdown",
      "source": [
        "## Heatmap"
      ],
      "metadata": {
        "id": "lL_BAlIOmST8"
      }
    },
    {
      "cell_type": "code",
      "source": [
        "%%writefile -a app.py\n",
        "st.subheader('Heatmap : Population Growth Over Years')\n",
        "population_cols = ['1970 Population', '1980 Population', '1990 Population', '2000 Population', '2010 Population']\n",
        "df_heatmap = df[population_cols]\n",
        "\n",
        "fig3 = go.Figure(data = go.Heatmap(\n",
        "                                    z = df_heatmap.T,\n",
        "                                    x = df['Country/Territory'],\n",
        "                                    y = population_cols,\n",
        "                                    colorscale = 'Plasma'\n",
        "))\n",
        "st.plotly_chart(fig3, use_container_width = True)\n",
        ""
      ],
      "metadata": {
        "colab": {
          "base_uri": "https://localhost:8080/"
        },
        "id": "Y1VzUFibmWhR",
        "outputId": "3dec7a00-afb7-4fd1-d8fb-4d68eb50531d"
      },
      "execution_count": 44,
      "outputs": [
        {
          "output_type": "stream",
          "name": "stdout",
          "text": [
            "Appending to app.py\n"
          ]
        }
      ]
    },
    {
      "cell_type": "code",
      "source": [],
      "metadata": {
        "id": "XdTrTyQlme7x"
      },
      "execution_count": null,
      "outputs": []
    }
  ]
}